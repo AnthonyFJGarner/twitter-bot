{
 "cells": [
  {
   "cell_type": "markdown",
   "metadata": {},
   "source": [
    "# Comprehensive Twitter bot\n",
    "This notebook will be used to collect and test a plethora of functions that you can add to your Twitter bot. They include, but are not limited to:\n",
    "\n",
    "* Following all your followers\n",
    "* Unfollowing everyone you follow\n",
    "* Liking and retweeting any tweets mentioning you\n",
    "* Liking and retweeting tweets with selected hashtags in the tweet\n",
    "* and many more\n",
    "\n",
    "You are welcome to contribute to this growing list of functions by:\n",
    "\n",
    "* Forking [this Github repository](https://github.com/adriaan90/twitter-bot)\n",
    "* Creating pull requests for any changes that you have made\n",
    "\n"
   ]
  },
  {
   "cell_type": "markdown",
   "metadata": {},
   "source": [
    "#### Importing required libraries"
   ]
  },
  {
   "cell_type": "code",
   "execution_count": null,
   "metadata": {},
   "outputs": [],
   "source": [
    "import tweepy\n",
    "import logging\n",
    "import time\n",
    "import random\n",
    "from datetime import datetime, timedelta\n",
    "\n",
    "logging.basicConfig(level=logging.INFO)\n",
    "logger = logging.getLogger()"
   ]
  },
  {
   "cell_type": "markdown",
   "metadata": {},
   "source": [
    "#### Import the script that creates the Twitter API"
   ]
  },
  {
   "cell_type": "code",
   "execution_count": null,
   "metadata": {
    "tags": []
   },
   "outputs": [],
   "source": [
    "from config import create_api\n",
    "api = create_api()"
   ]
  },
  {
   "cell_type": "markdown",
   "metadata": {},
   "source": [
    "#### Like and retweets mentions\n",
    "This function will search for tweets that mention your Twitter handle and will like and retweet each tweet it finds."
   ]
  },
  {
   "cell_type": "code",
   "execution_count": null,
   "metadata": {},
   "outputs": [],
   "source": [
    "def fav_retweet(api):\n",
    "    logger.info('Retrieving tweets...')\n",
    "    mentions = api.mentions_timeline(tweet_mode = 'extended')\n",
    "    for mention in reversed(mentions):\n",
    "        if mention.in_reply_to_status_id is not None or mention.user.id == api.me().id:\n",
    "            # This tweet is a reply or I'm its author so, ignore it\n",
    "            return\n",
    "        \n",
    "        if not mention.favorited:\n",
    "            # Mark it as Liked, since we have not done it yet\n",
    "            try:\n",
    "                mention.favorite()\n",
    "                logger.info(f\"Liked tweet by {mention.user.name}\")\n",
    "            except Exception as e:\n",
    "                logger.error(\"Error on fav\", exc_info=True)\n",
    "                \n",
    "        if not mention.retweeted:\n",
    "            # Retweet, since we have not retweeted it yet\n",
    "            try:\n",
    "                mention.retweet()\n",
    "                logger.info(f\"Retweeted tweet by {mention.user.name}\")\n",
    "            except Exception as e:\n",
    "                logger.error(\"Error on fav and retweet\", exc_info=True)\n"
   ]
  },
  {
   "cell_type": "markdown",
   "metadata": {},
   "source": [
    "We can test the function by running it and interacting with the bot account `@adriaansbot` to see if the bot picks up tweets mentioning its Twitter handle:"
   ]
  },
  {
   "cell_type": "code",
   "execution_count": null,
   "metadata": {},
   "outputs": [],
   "source": [
    "while True:\n",
    "    fav_retweet(api)\n",
    "    logger.info(\"Waiting...\")\n",
    "    time.sleep(30)"
   ]
  },
  {
   "cell_type": "markdown",
   "metadata": {},
   "source": [
    "#### Just like and retweet one user's tweets\n",
    "The function `fav_retweet_user` does the same thing as `fav_retweet`, but rather looks for tweets mentioning another user than youself."
   ]
  },
  {
   "cell_type": "code",
   "execution_count": null,
   "metadata": {},
   "outputs": [],
   "source": [
    "def fav_retweet_user(api, user_handle):\n",
    "    search_query = f\"{user_handle} -filter:retweets\"\n",
    "    logger.info(f'Retrieving tweets mentioning {user_handle}...')\n",
    "    tweets = api.search(q=search_query, lang =\"en\")\n",
    "    for tweet in tweets:\n",
    "        if tweet.in_reply_to_status_id is not None or \\\n",
    "            tweet.user.id == api.me().id:\n",
    "            # This tweet is a reply or I'm its author so, ignore it\n",
    "            return\n",
    "        if not tweet.favorited:\n",
    "            # Mark it as Liked, since we have not done it yet\n",
    "            try:\n",
    "                tweet.favorite()\n",
    "                logger.info(f\"Liked a tweet mentioning {user_handle}\")\n",
    "            except Exception as e:\n",
    "                logger.error(\"Error on fav\", exc_info=True)\n",
    "        if not tweet.retweeted:\n",
    "            # Retweet, since we have not retweeted it yet\n",
    "            try:\n",
    "                tweet.retweet()\n",
    "                logger.info(f\"Retweeted a tweet mentioning {user_handle}\")\n",
    "            except Exception as e:\n",
    "                logger.error(\"Error on fav and retweet\", exc_info=True)"
   ]
  },
  {
   "cell_type": "markdown",
   "metadata": {},
   "source": [
    "Let's test it the same way we tested `fav_retweet`, but now the bot will like and retweet any tweets mentioning my other Twitter account"
   ]
  },
  {
   "cell_type": "code",
   "execution_count": null,
   "metadata": {},
   "outputs": [],
   "source": [
    "while True:\n",
    "    fav_retweet_user(api, \"@Michaelgathara\")\n",
    "    logger.info(\"Waiting...\")\n",
    "    time.sleep(30)"
   ]
  },
  {
   "cell_type": "markdown",
   "metadata": {},
   "source": [
    "#### Follow users who follow your Twitter account\n",
    "This is a nice little function that will follow an account that follows your Twitter account. \n",
    "\n",
    "* If the `follow_followers` function is used in a loop, it will be able to follow anyone back as soon as they start following you.\n",
    "* It can also be used once-off."
   ]
  },
  {
   "cell_type": "code",
   "execution_count": null,
   "metadata": {},
   "outputs": [],
   "source": [
    "def follow_followers(api):\n",
    "    logger.info(\"Retrieving and following followers\")\n",
    "    for follower in tweepy.Cursor(api.followers).items():\n",
    "        if not follower.following:\n",
    "            try:\n",
    "                follower.follow()\n",
    "                logger.info(f\"Following {follower.name}\")\n",
    "            except tweepy.error.TweepError:\n",
    "                pass"
   ]
  },
  {
   "cell_type": "markdown",
   "metadata": {},
   "source": [
    "The Twitter account `@adriaansbot` is not following any of its followers, so let us fix that:"
   ]
  },
  {
   "cell_type": "code",
   "execution_count": null,
   "metadata": {},
   "outputs": [],
   "source": [
    "follow_followers(api)"
   ]
  },
  {
   "cell_type": "markdown",
   "metadata": {},
   "source": [
    "#### Unfollow users on Twitter\n",
    "The `unfollow` function can be used to:\n",
    "\n",
    "* Mass un-follow everyone you currently follow. There may not be a lot of scenarios where you want to do that, but you can.\n",
    "* Unfollow just a certain user. You need to give that user's username, user ID or displayed name as an input to the function (`follower_id`)\n",
    "\n",
    "This function on default will unfollow everyone you follow, so make sure you use it correctly, or you will have to painfully try and remember who you used to follow..."
   ]
  },
  {
   "cell_type": "code",
   "execution_count": null,
   "metadata": {},
   "outputs": [],
   "source": [
    "def unfollow(api, follower_id = None):\n",
    "    if not follower_id:\n",
    "        logger.info(\"Retrieving current users being followed...\")\n",
    "        for following_id in tweepy.Cursor(api.friends).items():\n",
    "            try:\n",
    "                api.destroy_friendship(following_id.id)\n",
    "                logger.info(f\"Unfollowed {following_id.name}\")\n",
    "            except tweepy.error.TweepError:\n",
    "                pass\n",
    "    else:\n",
    "        try:\n",
    "            api.destroy_friendship(follower_id)\n",
    "            logger.info(f\"Unfollowed {follower_id}...\")\n",
    "        except tweepy.error.TweepError:\n",
    "            pass            "
   ]
  },
  {
   "cell_type": "markdown",
   "metadata": {},
   "source": [
    "Let us unfollow just one user that the bot currently follow:"
   ]
  },
  {
   "cell_type": "code",
   "execution_count": null,
   "metadata": {},
   "outputs": [],
   "source": [
    "unfollow(api, \"@asvn90\")"
   ]
  },
  {
   "cell_type": "markdown",
   "metadata": {},
   "source": [
    "#### Retweet any tweets with a certain hashtags in the text\n",
    "\n",
    "When you are interested in certain topics and want to make sure that you engage with other like-minded users on Twitter, you can use the function `retweet_tweets_with_hashtag` to make sure do you do not miss any tweets."
   ]
  },
  {
   "cell_type": "code",
   "execution_count": null,
   "metadata": {},
   "outputs": [],
   "source": [
    "def retweet_tweets_with_hashtag(api, need_hashtags):\n",
    "    if type(need_hashtags) is list:\n",
    "        search_query = f\"{need_hashtags} -filter:retweets\"\n",
    "        tweets = api.search(q=search_query, lang =\"en\", tweet_mode='extended')\n",
    "        for tweet in tweets:\n",
    "            hashtags = [i['text'].lower() for i in tweet.__dict__['entities']['hashtags']]\n",
    "            try:\n",
    "                need_hashtags = [hashtag.strip('#') for hashtag in need_hashtags]\n",
    "                need_hashtags = list(need_hashtags)\n",
    "                if set(hashtags) & set(need_hashtags):\n",
    "                    if tweet.user.id != api.me().id:\n",
    "                        api.retweet(tweet.id)\n",
    "                        logger.info(f\"Retweeted tweet from {tweet.user.name}\")\n",
    "                        time.sleep(5)\n",
    "            except tweepy.TweepError:\n",
    "                logger.error(\"Error on retweet\", exc_info=True)\n",
    "    else:\n",
    "        logger.error(\"Hashtag search terms needs to be of type list\", exc_info=True) \n",
    "        return\n",
    "            "
   ]
  },
  {
   "cell_type": "markdown",
   "metadata": {},
   "source": [
    "We can test to see if this works by retweeting any tweets that mention the hashtag `#manim`. Make sure to put in a `time.sleep()` in there somewhere as well, otherwise your bot will go crazy with the retweets and Twitter will ban your account."
   ]
  },
  {
   "cell_type": "code",
   "execution_count": null,
   "metadata": {},
   "outputs": [],
   "source": [
    "while True:\n",
    "        retweet_tweets_with_hashtag(api, [\"#manim\"])\n",
    "        logger.info(\"Waiting...\")\n",
    "        time.sleep(30)"
   ]
  },
  {
   "cell_type": "markdown",
   "metadata": {},
   "source": [
    "#### Tweet out a daily tweet\n",
    "The function will tweet out a string given to it once every day. You can change the frequency by changing the if statement's `timedelta(hours=24)` bit."
   ]
  },
  {
   "cell_type": "code",
   "execution_count": null,
   "metadata": {},
   "outputs": [],
   "source": [
    "def tweet_daily(api, last_tweeted, text):\n",
    "    if last_tweeted < datetime.now()-timedelta(hours=24):\n",
    "        api.update_status(text)\n",
    "        logger.info(f\"Tweeted {text} at {datetime.now().strftime('%m/%d/%Y at %H:%M:%S')}\")\n",
    "        return datetime.now()\n",
    "    else:\n",
    "        return last_tweeted"
   ]
  },
  {
   "cell_type": "markdown",
   "metadata": {},
   "source": [
    "#### Creating a bot for continuous monitoring\n",
    "The code below is an example of where you will run a `while` loop continuously to do a bunch of jobs. Here the Twitter bot:\n",
    "\n",
    "* Follow anyone that follows the bot's account\n",
    "* Tweets a random text from a list provided every day"
   ]
  },
  {
   "cell_type": "code",
   "execution_count": null,
   "metadata": {},
   "outputs": [],
   "source": [
    "def main():\n",
    "    tweets = [\"I am happy\", \"I am sad\", \"I am hungry\", \"I am tired\"]\n",
    "    api = create_api()\n",
    "    last_tweeted = datetime.now()-timedelta(hours=24)\n",
    "    while True:\n",
    "        fav_retweet_user(api,\"@asvn90\")\n",
    "        last_tweeted = tweet_daily(api, last_tweeted, random.choice(tweets))\n",
    "        logger.info(\"Waiting...\")\n",
    "        time.sleep(60)"
   ]
  },
  {
   "cell_type": "code",
   "execution_count": null,
   "metadata": {},
   "outputs": [],
   "source": [
    "if __name__ == \"__main__\":\n",
    "    main()    "
   ]
  },
  {
   "cell_type": "markdown",
   "metadata": {},
   "source": [
    "#### Retweet any tweets with a certain Ticker Symbol in the text\n",
    "\n",
    "When you are interested in certain tickers and want to make sure that you engage with other like-minded users on Twitter, you can use the function `retweet_tweets_with_ticker` to make sure do you do not miss any tweets.\n",
    "\n"
   ]
  },
  {
   "cell_type": "code",
   "execution_count": null,
   "metadata": {},
   "outputs": [],
   "source": [
    "def retweet_tweets_with_ticker(api, need_ticker):\n",
    "    if type(need_ticker) is list:\n",
    "        search_query = f\"{need_ticker} -filter:retweets\"\n",
    "        tweets = api.search(q=search_query, lang =\"en\", tweet_mode='extended')\n",
    "        for tweet in tweets:\n",
    "            ticker = [i['text'].lower() for i in tweet.__dict__['entities']['symbols']]\n",
    "            try:\n",
    "                need_ticker = [hashtag.strip('$') for hashtag in need_ticker]\n",
    "                need_ticker = list(need_ticker)\n",
    "                if set(ticker) & set(need_ticker):\n",
    "                    if tweet.user.id != api.me().id:\n",
    "                        api.retweet(tweet.id)\n",
    "                        logger.info(f\"Retweeted tweet from {tweet.user.name}\")\n",
    "                        time.sleep(5)\n",
    "            except tweepy.TweepError:\n",
    "                logger.error(\"Error on retweet\", exc_info=True)\n",
    "    else:\n",
    "        logger.error(\"Hashtag search terms needs to be of type list\", exc_info=True) \n",
    "        return           "
   ]
  },
  {
   "cell_type": "markdown",
   "metadata": {},
   "source": [
    "We can test to see if this works by retweeting any tweets that mention the Ticker `$msft` (Microsoft). Make sure to put in a `time.sleep()` in there somewhere as well, otherwise your bot will go crazy with the retweets and Twitter will ban your account."
   ]
  },
  {
   "cell_type": "code",
   "execution_count": null,
   "metadata": {
    "tags": []
   },
   "outputs": [],
   "source": [
    "while True:\n",
    "    retweet_tweets_with_ticker(api, [\"$msft\"])\n",
    "    logger.info(\"Waiting...\")\n",
    "    time.sleep(30)"
   ]
  },
  {
   "cell_type": "code",
   "execution_count": null,
   "metadata": {},
   "outputs": [],
   "source": []
  }
 ],
 "metadata": {
  "kernelspec": {
   "display_name": "Python 3.8.3 32-bit",
   "language": "python",
   "name": "python_defaultSpec_1595058687988"
  },
  "language_info": {
   "codemirror_mode": {
    "name": "ipython",
    "version": 3
   },
   "file_extension": ".py",
   "mimetype": "text/x-python",
   "name": "python",
   "nbconvert_exporter": "python",
   "pygments_lexer": "ipython3",
   "version": "3.7.7"
  }
 },
 "nbformat": 4,
 "nbformat_minor": 4
}